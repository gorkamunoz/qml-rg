{
 "cells": [
  {
   "cell_type": "markdown",
   "metadata": {},
   "source": [
    "1. Introduction\n",
    "===============\n",
    "Data science used to be called data mining, and for good reasons. It is a dirty, soul-wrenching job in which many die. Machine learning is the only enjoyable part, but whatever happens before you can deploy a learning algorithm is drudgery. The renaming of the subject was a PR move, and it is about as pretentious as calling coal mining \"carbon extraction science\".\n",
    "\n",
    "Today we will focus on the drudgery part, which is inevitable if you want to obtain any non-trivial result with machine learning. My hope is that the topics covered translate to other workloads you might encounter in your daily work. The topics will be:\n",
    "\n",
    "- I/O operations, which includes pulling files off the net and elementary loading/saving. We will not work on scale, as the IT policy explicitly bans this.\n",
    "\n",
    "- Lots of text processing. This alone is a compelling reason to use Python 3: you will avoid most of the problems associated with the rabbit hole known as [UTF-8](https://en.wikipedia.org/wiki/UTF-8). You'd also better make friends with [regular expressions](https://en.wikipedia.org/wiki/Regular_expression).\n",
    "\n",
    "- Database-like operations, dataframes.\n",
    "\n",
    "- Visual inspection of data to get a feeling of it.\n",
    "\n",
    "The modules we import reflect the above: numpy or TensorFlow does not have a place here. We will scrape stuff from arXiv to analyze correlation patterns between authors, metadata, and Impact Factor. There are high-level libraries to do scraping (e.g. [Scrapy](https://scrapy.org/)) and also to work with arXiv (e.g.[arxiv.py](https://github.com/lukasschwab/arxiv.py)), but we will build things bottom-up, so we import low-level I/O, networking, text processing and parsing libraries."
   ]
  },
  {
   "cell_type": "code",
   "execution_count": null,
   "metadata": {
    "ExecuteTime": {
     "end_time": "2017-04-18T16:00:21.845095Z",
     "start_time": "2017-04-18T18:00:21.230177+02:00"
    },
    "collapsed": true
   },
   "outputs": [],
   "source": [
    "from __future__ import print_function\n",
    "import matplotlib.pyplot as plt\n",
    "import os\n",
    "import pandas as pd\n",
    "import re\n",
    "import seaborn as sns\n",
    "try:\n",
    "    from urllib2 import Request, urlopen\n",
    "except ImportError:\n",
    "    from urllib.request import Request, urlopen\n",
    "from bs4 import BeautifulSoup\n",
    "%matplotlib inline"
   ]
  },
  {
   "cell_type": "markdown",
   "metadata": {},
   "source": [
    "2. Scraping\n",
    "===========\n",
    "The amount of insight you can gain by scraping free information from the net is astonishing, especially given how easy it is to scrape. Whatever you want to learn about, there is free information out there (and probably a Python package to help).\n",
    "\n",
    "We will work on the simplest scenario: pulling off files that do not need authentication or setting cookies. We will ignore [robot rules](https://en.wikipedia.org/wiki/Robots_exclusion_standard) and pretend that we are a Firefox browser. For instance, this will get you BIST's main site:"
   ]
  },
  {
   "cell_type": "code",
   "execution_count": null,
   "metadata": {
    "ExecuteTime": {
     "end_time": "2017-04-18T16:00:25.080810Z",
     "start_time": "2017-04-18T18:00:21.846902+02:00"
    },
    "collapsed": true
   },
   "outputs": [],
   "source": [
    "url = \"http://bist.eu/\"\n",
    "req = Request(url, headers={'User-Agent': 'Mozilla/5.0'})\n",
    "content = urlopen(req).read()"
   ]
  },
  {
   "cell_type": "markdown",
   "metadata": {},
   "source": [
    "If we inspect what it is, it looks like HTML:"
   ]
  },
  {
   "cell_type": "code",
   "execution_count": null,
   "metadata": {
    "ExecuteTime": {
     "end_time": "2017-04-18T16:00:25.101653Z",
     "start_time": "2017-04-18T18:00:25.090366+02:00"
    }
   },
   "outputs": [],
   "source": [
    "content[:50]"
   ]
  },
  {
   "cell_type": "markdown",
   "metadata": {},
   "source": [
    "The way we read it, the content is a byte array:"
   ]
  },
  {
   "cell_type": "code",
   "execution_count": null,
   "metadata": {
    "ExecuteTime": {
     "end_time": "2017-04-18T16:00:25.116746Z",
     "start_time": "2017-04-18T18:00:25.104423+02:00"
    }
   },
   "outputs": [],
   "source": [
    "type(content)"
   ]
  },
  {
   "cell_type": "markdown",
   "metadata": {},
   "source": [
    "Convert it to UTF-8 to see what it contains in a nicer way:"
   ]
  },
  {
   "cell_type": "code",
   "execution_count": null,
   "metadata": {
    "ExecuteTime": {
     "end_time": "2017-04-18T16:00:25.146191Z",
     "start_time": "2017-04-18T18:00:25.119393+02:00"
    }
   },
   "outputs": [],
   "source": [
    "print(content.decode(\"utf-8\")[:135])"
   ]
  },
  {
   "cell_type": "markdown",
   "metadata": {},
   "source": [
    "You can save it to a file so that you do not have to scrape it again. This is important when you scrape millions of files, and the scraping has to be restarted. Have mercy on the webserver, or you risk getting blacklisted."
   ]
  },
  {
   "cell_type": "code",
   "execution_count": null,
   "metadata": {
    "ExecuteTime": {
     "end_time": "2017-04-18T16:00:25.164031Z",
     "start_time": "2017-04-18T18:00:25.147892+02:00"
    },
    "collapsed": true
   },
   "outputs": [],
   "source": [
    "with open(\"bist.html\", 'wb') as file:\n",
    "    file.write(content)\n",
    "    file.close()"
   ]
  },
  {
   "cell_type": "markdown",
   "metadata": {},
   "source": [
    "You can technically open this in a browser, but it is only the HTML part of the site: the style files, images, and a whole lot of other things that make a page working are missing. Lazy people can launch a browser from Python to see what the page looks like:"
   ]
  },
  {
   "cell_type": "code",
   "execution_count": null,
   "metadata": {
    "ExecuteTime": {
     "end_time": "2017-04-18T16:00:25.309062Z",
     "start_time": "2017-04-18T18:00:25.165568+02:00"
    }
   },
   "outputs": [],
   "source": [
    "from subprocess import run\n",
    "run([\"firefox\", \"-new-tab\", \"bist.html\"])"
   ]
  },
  {
   "cell_type": "markdown",
   "metadata": {},
   "source": [
    "**Exercise 1.** Copy an image location from the BIST website. Scrape it and display it. For the display, you can import `Image` from `IPython.display`, and then use `Image(data=content)`. Technically you could use `imshow` from Matplotlib, but then you would have decompress the image first."
   ]
  },
  {
   "cell_type": "code",
   "execution_count": null,
   "metadata": {
    "collapsed": true
   },
   "outputs": [],
   "source": []
  },
  {
   "cell_type": "markdown",
   "metadata": {},
   "source": [
    "We put everything together in a function that only attempts to download a file if it is not present locally. If you do not specify a filename, it tries to extract it from the URL by taking everything after the last \"/\" character as the filename."
   ]
  },
  {
   "cell_type": "code",
   "execution_count": null,
   "metadata": {
    "ExecuteTime": {
     "end_time": "2017-04-18T16:00:25.324154Z",
     "start_time": "2017-04-18T18:00:25.312107+02:00"
    },
    "collapsed": true
   },
   "outputs": [],
   "source": [
    "def get_file(url, filename=None):\n",
    "    if filename is None:\n",
    "        slash = url.rindex(\"/\")\n",
    "        filename = url[slash+1:]\n",
    "    if os.path.isfile(filename):\n",
    "        with open(filename, 'rb') as file:\n",
    "            content = file.read()\n",
    "    else:\n",
    "        req = Request(url, headers={'User-Agent': 'Mozilla/5.0'})\n",
    "        content = urlopen(req).read()\n",
    "        with open(filename, 'wb') as file:\n",
    "            file.write(content)\n",
    "            file.close()\n",
    "    return content"
   ]
  },
  {
   "cell_type": "markdown",
   "metadata": {
    "ExecuteTime": {
     "end_time": "2017-04-18T06:49:14.220051Z",
     "start_time": "2017-04-18T08:49:14.215940+02:00"
    }
   },
   "source": [
    "3. Cleaning structured data\n",
    "===========================\n",
    "We will integrate **several data sources**, as this is the most common pattern you encounter in day to day data science. We will have two structured sources of data, and one semistructured:\n",
    "\n",
    "1. A table of journal titles and matching abbreviations. This will help us standardize journal titles in the data, as some will be given as full titles, others as abbreviations.\n",
    "\n",
    "2. A table of journals and matching Impact Factors.\n",
    "\n",
    "3. Search results in HTML format that contain the metadata of the papers we want to study\n",
    "\n",
    "We start with the easier part, obtaining and cleaning the structured data. Let us get the journal abbrevations:"
   ]
  },
  {
   "cell_type": "code",
   "execution_count": null,
   "metadata": {
    "ExecuteTime": {
     "end_time": "2017-04-18T16:00:32.213903Z",
     "start_time": "2017-04-18T18:00:25.330332+02:00"
    },
    "collapsed": true
   },
   "outputs": [],
   "source": [
    "abbreviations = get_file(\"https://github.com/JabRef/abbrv.jabref.org/raw/master/journals/journal_abbreviations_webofscience.txt\")"
   ]
  },
  {
   "cell_type": "markdown",
   "metadata": {},
   "source": [
    "Let's see what it contains:"
   ]
  },
  {
   "cell_type": "code",
   "execution_count": null,
   "metadata": {
    "ExecuteTime": {
     "end_time": "2017-04-18T16:00:32.232833Z",
     "start_time": "2017-04-18T18:00:32.218435+02:00"
    },
    "scrolled": true
   },
   "outputs": [],
   "source": [
    "print(abbreviations.decode(\"utf-8\")[:1000])"
   ]
  },
  {
   "cell_type": "markdown",
   "metadata": {},
   "source": [
    "This is fairly straightforward: the file starts with a bunch of comments, then two columns containing the full title and the abbreviation, separated by the \"=\" character. We can load it with Pandas without thinking much:"
   ]
  },
  {
   "cell_type": "code",
   "execution_count": null,
   "metadata": {
    "ExecuteTime": {
     "end_time": "2017-04-18T16:00:32.381039Z",
     "start_time": "2017-04-18T18:00:32.236725+02:00"
    },
    "collapsed": true
   },
   "outputs": [],
   "source": [
    "abbs = pd.read_csv(\"journal_abbreviations_webofscience.txt\", sep='=',\n",
    "                   comment='#', names=[\"Full Journal Title\", \"Abbreviation\"])"
   ]
  },
  {
   "cell_type": "markdown",
   "metadata": {},
   "source": [
    "In principle, it looks okay:"
   ]
  },
  {
   "cell_type": "code",
   "execution_count": null,
   "metadata": {
    "ExecuteTime": {
     "end_time": "2017-04-18T16:00:32.393134Z",
     "start_time": "2017-04-18T18:00:32.382769+02:00"
    }
   },
   "outputs": [],
   "source": [
    "abbs.head()"
   ]
  },
  {
   "cell_type": "markdown",
   "metadata": {},
   "source": [
    "If we take a closer look at a particular element, we will notice that something is off:"
   ]
  },
  {
   "cell_type": "code",
   "execution_count": null,
   "metadata": {
    "ExecuteTime": {
     "end_time": "2017-04-18T16:00:32.420457Z",
     "start_time": "2017-04-18T18:00:32.395580+02:00"
    }
   },
   "outputs": [],
   "source": [
    "abbs.iloc[0, 1]"
   ]
  },
  {
   "cell_type": "markdown",
   "metadata": {},
   "source": [
    "The string starts with an unnecessary white space. We also do not want to miss any possible match because of differences in the use of capitalization. So we strip starting and trailing white space and convert every entry to upper case:"
   ]
  },
  {
   "cell_type": "code",
   "execution_count": null,
   "metadata": {
    "ExecuteTime": {
     "end_time": "2017-04-18T16:00:32.584526Z",
     "start_time": "2017-04-18T18:00:32.423127+02:00"
    },
    "collapsed": true
   },
   "outputs": [],
   "source": [
    "abbs = abbs.applymap(lambda x: x.upper().strip())"
   ]
  },
  {
   "cell_type": "markdown",
   "metadata": {},
   "source": [
    "This is done: it was an easy and clean data set.\n",
    "\n",
    "Let us go for the next one. Their Journal Citation Records reduced scientific contributions to a single number, allowing incompetent people to make unfounded judgements on the quality of your research output. So when you encounter a [question like this](https://www.researchgate.net/post/How_can_I_find_the_list_of_Impact_Factor_20152): \"I want to know which JCR journal is paid and easy to get publication\", you do not even blink an eye. Fortunately, the same thread has a download link for the 2015 report in an XLS file. We go for it:"
   ]
  },
  {
   "cell_type": "code",
   "execution_count": null,
   "metadata": {
    "ExecuteTime": {
     "end_time": "2017-04-18T16:00:37.779047Z",
     "start_time": "2017-04-18T18:00:32.586622+02:00"
    },
    "collapsed": true
   },
   "outputs": [],
   "source": [
    "get_file(\"https://www.researchgate.net/file.PostFileLoader.html?id=558730995e9d9735688b4631&assetKey=AS%3A273803718922244%401442291301717\",\n",
    "         \"2014_SCI_IF.xlsx\");"
   ]
  },
  {
   "cell_type": "markdown",
   "metadata": {},
   "source": [
    "We can open it in LibreOffice or OpenOffice, using the lazy way again:"
   ]
  },
  {
   "cell_type": "code",
   "execution_count": null,
   "metadata": {
    "ExecuteTime": {
     "end_time": "2017-04-18T16:00:40.666119Z",
     "start_time": "2017-04-18T18:00:37.788286+02:00"
    }
   },
   "outputs": [],
   "source": [
    "run([\"soffice\", \"2014_SCI_IF.xlsx\"])"
   ]
  },
  {
   "cell_type": "markdown",
   "metadata": {},
   "source": [
    "The two first lines are junk, and there is an index column. Let us load it in Pandas:"
   ]
  },
  {
   "cell_type": "code",
   "execution_count": null,
   "metadata": {
    "ExecuteTime": {
     "end_time": "2017-04-18T16:00:41.520410Z",
     "start_time": "2017-04-18T18:00:40.668583+02:00"
    },
    "collapsed": true
   },
   "outputs": [],
   "source": [
    "ifs = pd.read_excel(\"2014_SCI_IF.xlsx\", skiprows=2, index_col=0)"
   ]
  },
  {
   "cell_type": "markdown",
   "metadata": {},
   "source": [
    "If this fails, you do not have the package for reading Excel files. Install it with `import pip; pip.main([\"install\", \"xlrd\"])`.\n",
    "\n",
    "Now this table definitely looks fishy:"
   ]
  },
  {
   "cell_type": "code",
   "execution_count": null,
   "metadata": {
    "ExecuteTime": {
     "end_time": "2017-04-18T16:00:41.537656Z",
     "start_time": "2017-04-18T18:00:41.521725+02:00"
    }
   },
   "outputs": [],
   "source": [
    "ifs.head()"
   ]
  },
  {
   "cell_type": "markdown",
   "metadata": {
    "collapsed": true
   },
   "source": [
    "What are those empty columns? They do not seem to be in the file. The answer lies at the end of the table:"
   ]
  },
  {
   "cell_type": "code",
   "execution_count": null,
   "metadata": {
    "ExecuteTime": {
     "end_time": "2017-04-18T16:00:41.568580Z",
     "start_time": "2017-04-18T18:00:41.539381+02:00"
    }
   },
   "outputs": [],
   "source": [
    "ifs.tail()"
   ]
  },
  {
   "cell_type": "markdown",
   "metadata": {},
   "source": [
    "Some stupid multi-column copyright notice at the bottom distorts the entire collection. This is why spreadsheets are the most hated data format for structured data, as the uncontrolled blend of content and formatting lets ignorant people give you a headache.\n",
    "\n",
    "The journals are listed according to their ranking, in decreasing order. We know that we do not care about journals that do not have an Impact Factor. We take this as a cut-off for rows, and re-read only the rows and columns we are interested in:"
   ]
  },
  {
   "cell_type": "code",
   "execution_count": null,
   "metadata": {
    "ExecuteTime": {
     "end_time": "2017-04-18T16:00:42.501441Z",
     "start_time": "2017-04-18T18:00:41.571064+02:00"
    },
    "collapsed": true
   },
   "outputs": [],
   "source": [
    "skip = len(ifs) - ifs[\"Journal Impact Factor\"].last_valid_index() + 1\n",
    "ifs = pd.read_excel(\"2014_SCI_IF.xlsx\", skiprows=2, index_col=0,\n",
    "                    skip_footer=skip, parse_cols=\"A,B,E\")"
   ]
  },
  {
   "cell_type": "markdown",
   "metadata": {},
   "source": [
    "This looks much better:"
   ]
  },
  {
   "cell_type": "code",
   "execution_count": null,
   "metadata": {
    "ExecuteTime": {
     "end_time": "2017-04-18T16:00:42.510400Z",
     "start_time": "2017-04-18T18:00:42.503300+02:00"
    }
   },
   "outputs": [],
   "source": [
    "ifs.head()"
   ]
  },
  {
   "cell_type": "markdown",
   "metadata": {},
   "source": [
    "But not perfect:"
   ]
  },
  {
   "cell_type": "code",
   "execution_count": null,
   "metadata": {
    "ExecuteTime": {
     "end_time": "2017-04-18T16:00:42.540107Z",
     "start_time": "2017-04-18T18:00:42.512748+02:00"
    }
   },
   "outputs": [],
   "source": [
    "ifs.sample(n=10)"
   ]
  },
  {
   "cell_type": "markdown",
   "metadata": {},
   "source": [
    "Now you see why we converted everything to upper case before.\n",
    "\n",
    "**Exercise 2.** Convert everything in the column \"Full Journal Title\" to upper case. You will encounter a charming inconsistency in Pandas."
   ]
  },
  {
   "cell_type": "code",
   "execution_count": null,
   "metadata": {
    "ExecuteTime": {
     "end_time": "2017-04-17T22:18:17.605452Z",
     "start_time": "2017-04-18T00:18:17.350303+02:00"
    },
    "collapsed": true
   },
   "outputs": [],
   "source": []
  },
  {
   "cell_type": "markdown",
   "metadata": {},
   "source": [
    "4. Cleaning and filtering of semi-structured data\n",
    "=================================================\n",
    "The horror starts when even more control is given to humans who create the data. We move on to studying the search results for the authors Lewenstein and Acín on arXiv. The metadata is entered by humans, which makes it inconsistent and chaotic.\n",
    "\n",
    "The [advanced search](https://arxiv.org/find) on arXiv is simple and handy. The search URL has a well-defined structure that we can exploit. We create a wrapper function around our scraping engine, which gets the first 400 results for a requested author and returns a parsed HTML file. The library [BeautifulSoup](https://www.crummy.com/software/BeautifulSoup/bs4/doc/) does the parsing: it understand the hierarchical structure of the file, and allows you navigate the hierarchy with a handful of convenience functions."
   ]
  },
  {
   "cell_type": "code",
   "execution_count": null,
   "metadata": {
    "ExecuteTime": {
     "end_time": "2017-04-18T16:00:42.565563Z",
     "start_time": "2017-04-18T18:00:42.541811+02:00"
    },
    "collapsed": true
   },
   "outputs": [],
   "source": [
    "def get_search_result(author):\n",
    "    filename = author + \".html\"\n",
    "    url = \"https://arxiv.org/find/all/1/au:+\" + author + \"/0/1/0/all/0/1?per_page=400\"\n",
    "    page = get_file(url, filename)\n",
    "    return BeautifulSoup(page, \"html.parser\")"
   ]
  },
  {
   "cell_type": "markdown",
   "metadata": {},
   "source": [
    "It is a common pattern to exploit search URLs to get what you want. Many don't let you pull off too many results in a single page, and you have to step through the \"Next\" links over and over again to get all the results you want. This is also not difficult, but it has the extra complication that you have to extract the \"Next\" link and call it recursively.\n",
    "\n",
    "Let us study the results:"
   ]
  },
  {
   "cell_type": "code",
   "execution_count": null,
   "metadata": {
    "ExecuteTime": {
     "end_time": "2017-04-18T16:00:53.597209Z",
     "start_time": "2017-04-18T18:00:42.567141+02:00"
    },
    "collapsed": true
   },
   "outputs": [],
   "source": [
    "lewenstein = get_search_result(\"Lewenstein_M\")"
   ]
  },
  {
   "cell_type": "markdown",
   "metadata": {},
   "source": [
    "We can view the source in a browser:"
   ]
  },
  {
   "cell_type": "code",
   "execution_count": null,
   "metadata": {
    "ExecuteTime": {
     "end_time": "2017-04-18T16:01:19.654499Z",
     "start_time": "2017-04-18T18:00:53.599034+02:00"
    }
   },
   "outputs": [],
   "source": [
    "run([\"firefox\", \"-new-tab\", \"view-source:file://\" + os.getcwd() + \"/Lewenstein_M.html\"])"
   ]
  },
  {
   "cell_type": "markdown",
   "metadata": {},
   "source": [
    "Skipping the boring header part, the source code of the search result looks like this:\n",
    "\n",
    "```html\n",
    "<h3>Showing results 1 through 389 (of 389 total) for \n",
    "<a href=\"/find/all/1/au:+Lewenstein_M/0/1/0/all/0/1?skip=0&amp;query_id=ff0631708b5d0dd5\">au:Lewenstein_M</a></h3>\n",
    "<dl>\n",
    "<dt>1.  <span class=\"list-identifier\"><a href=\"/abs/1703.09814\" title=\"Abstract\">arXiv:1703.09814</a> [<a href=\"/pdf/1703.09814\" title=\"Download PDF\">pdf</a>, <a href=\"/ps/1703.09814\" title=\"Download PostScript\">ps</a>, <a href=\"/format/1703.09814\" title=\"Other formats\">other</a>]</span></dt>\n",
    "<dd>\n",
    "<div class=\"meta\">\n",
    "<div class=\"list-title mathjax\">\n",
    "<span class=\"descriptor\">Title:</span> Efficient Determination of Ground States of Infinite Quantum Lattice  Models in Three Dimensions\n",
    "</div>\n",
    "<div class=\"list-authors\">\n",
    "<span class=\"descriptor\">Authors:</span> \n",
    "<a href=\"/find/cond-mat/1/au:+Ran_S/0/1/0/all/0/1\">Shi-Ju Ran</a>, \n",
    "<a href=\"/find/cond-mat/1/au:+Piga_A/0/1/0/all/0/1\">Angelo Piga</a>, \n",
    "<a href=\"/find/cond-mat/1/au:+Peng_C/0/1/0/all/0/1\">Cheng Peng</a>, \n",
    "<a href=\"/find/cond-mat/1/au:+Su_G/0/1/0/all/0/1\">Gang Su</a>, \n",
    "<a href=\"/find/cond-mat/1/au:+Lewenstein_M/0/1/0/all/0/1\">Maciej Lewenstein</a>\n",
    "</div>\n",
    "<div class=\"list-comments\">\n",
    "<span class=\"descriptor\">Comments:</span> 11 pages, 9 figures\n",
    "</div>\n",
    "<div class=\"list-subjects\">\n",
    "<span class=\"descriptor\">Subjects:</span> <span class=\"primary-subject\">Strongly Correlated Electrons (cond-mat.str-el)</span>; Computational Physics (physics.comp-ph)\n",
    "\n",
    "</div>\n",
    "</div>\n",
    "</dd>\n",
    "```\n",
    "This is the entire first result. It might look intimidating, but as long as you know that in HTML a mark-up starts with `<whatever>` and ends with `</whatever>`, you will find regular and hierarchical patterns. If you stare hard enough, you will see that the `<dd>` tag contains most of the information we want: it has the authors, the title, the journal reference if there is one (not in the example shown), and the primary subject. It does not actually matter what `<dd>` is: we are not writing a browser, we are scraping data.\n",
    "\n",
    "As a quick sanity check, we can easily extract the titles, and verify that they match the number of search results. The `lewenstein` object is instance of the BeautifulSoup class, which has methods to find all instances of a given mark-up. We use this to find the titles:"
   ]
  },
  {
   "cell_type": "code",
   "execution_count": null,
   "metadata": {
    "ExecuteTime": {
     "end_time": "2017-04-18T16:01:19.709997Z",
     "start_time": "2017-04-18T18:01:19.657126+02:00"
    }
   },
   "outputs": [],
   "source": [
    "titles = []\n",
    "for dd in lewenstein.find_all(\"dd\"):\n",
    "    titles.append(dd.find(\"div\", class_=\"list-title mathjax\"))\n",
    "len(titles)"
   ]
  },
  {
   "cell_type": "markdown",
   "metadata": {
    "ExecuteTime": {
     "end_time": "2017-04-17T17:50:36.054755Z",
     "start_time": "2017-04-17T19:50:36.049594+02:00"
    }
   },
   "source": [
    "So far so good, although the titles do not really look like we expect them:"
   ]
  },
  {
   "cell_type": "code",
   "execution_count": null,
   "metadata": {
    "ExecuteTime": {
     "end_time": "2017-04-18T16:01:19.726376Z",
     "start_time": "2017-04-18T18:01:19.712079+02:00"
    }
   },
   "outputs": [],
   "source": [
    "titles[0]"
   ]
  },
  {
   "cell_type": "markdown",
   "metadata": {},
   "source": [
    "We define a helper function to extract the title:"
   ]
  },
  {
   "cell_type": "code",
   "execution_count": null,
   "metadata": {
    "ExecuteTime": {
     "end_time": "2017-04-18T16:01:19.799734Z",
     "start_time": "2017-04-18T18:01:19.728495+02:00"
    }
   },
   "outputs": [],
   "source": [
    "def extract_title(title):\n",
    "    start = title.index(\" \")\n",
    "    return title[start+1:-1]\n",
    "\n",
    "titles = []\n",
    "for dd in lewenstein.find_all(\"dd\"):\n",
    "    titles.append(extract_title(dd.find(\"div\", class_ = \"list-title mathjax\").text))\n",
    "titles[0]"
   ]
  },
  {
   "cell_type": "markdown",
   "metadata": {},
   "source": [
    "The next problem we face is that not all of these papers belong to Maciej Lewenstein: some impostors have the same abbreviated name M. Lewenstein. They are easy to detect if they uses the non-abbreviated name. Let us run through the page again, noting which subject the the impostors publish in. For this, let us introduce another auxiliary function that extract the short name of the the subject. We also note the primary subject when the abbreviated form of the name appears. We use another function to drop \".\" and merge multiple white space to a single one. We will use a simple regular expression to find the candidate Lewensteins."
   ]
  },
  {
   "cell_type": "code",
   "execution_count": null,
   "metadata": {
    "ExecuteTime": {
     "end_time": "2017-04-18T16:01:19.950947Z",
     "start_time": "2017-04-18T18:01:19.802185+02:00"
    }
   },
   "outputs": [],
   "source": [
    "def extract_subject(long_subject):\n",
    "    start = long_subject.index(\"(\")\n",
    "    return long_subject[start+1:-1]\n",
    "\n",
    "\n",
    "def drop_punctuation(string):\n",
    "    result = string.replace(\".\", \" \")\n",
    "    return \" \".join(result.split())\n",
    "\n",
    "true_lewenstein = [\"Maciej Lewenstein\", \"M Lewenstein\"]\n",
    "impostors = set()\n",
    "primary_subjects = set()\n",
    "for dd in lewenstein.find_all(\"dd\"):\n",
    "    div = dd.find(\"div\", class_=\"list-authors\")\n",
    "    subject = extract_subject(dd.find(\"span\", class_ = \"primary-subject\").text)\n",
    "    names = [drop_punctuation(a.text) for a in div.find_all(\"a\")]\n",
    "    for name in names:\n",
    "        if re.search(\"M.* Lewenstein\", name):\n",
    "            if name not in true_lewenstein:\n",
    "                impostors.add(name + \" \" + subject)\n",
    "            elif \"Maciej\" not in name:\n",
    "                primary_subjects.add(subject)\n",
    "print(impostors)\n",
    "print(primary_subjects)"
   ]
  },
  {
   "cell_type": "markdown",
   "metadata": {},
   "source": [
    "So it is only one person, and we can be reasonably confident that Maciej Lewenstein is unlikely to publish in these subjects. The other good news is that all the short forms of the name belong to physics papers, and not computer science. Armed with this knowledge, we can filter out the correct manuscripts. \n",
    "\n",
    "We need to filter one more thing: we are only interested in papers for which the journal reference is given. Further digging in the HTML code lets us find the correct tag. While we are putting together the correct records, we also normalize his name. \n",
    "\n",
    "Annoyingly, the `<dd>` tag we have been focusing on does not contain the arXiv ID or the year. We zip the main loop's iterator with the `<dt>` tag, because only this one contains the arXiv ID, from which the year can be extracted. This always goes in pair with the `<dd>` tag, completing the metadata of the manuscripts.\n",
    "\n",
    "We define yet another set of auxiliary functions to extract everything we need. The routine for extracting the journal title already performs stripping and converting to upper case. We assume that the name of the journal is the stuff on the matching line before the first digit (which is probably the volume or some other bibliographic information)."
   ]
  },
  {
   "cell_type": "code",
   "execution_count": null,
   "metadata": {
    "ExecuteTime": {
     "end_time": "2017-04-18T16:01:20.189157Z",
     "start_time": "2017-04-18T18:01:19.953078+02:00"
    },
    "collapsed": true
   },
   "outputs": [],
   "source": [
    "def extract_journal(journal):\n",
    "    start = journal.index(\" \")\n",
    "    raw = journal[start+1:-1]\n",
    "    m = re.search(\"\\d\", raw)\n",
    "    return drop_punctuation(raw[:m.start()]).strip().upper()\n",
    "\n",
    "\n",
    "def extract_title(title):\n",
    "    start = title.index(\" \")\n",
    "    return title[start+1:-1]\n",
    "\n",
    "\n",
    "def extract_id_and_year(arXiv):\n",
    "    start = arXiv.index(\":\")\n",
    "    if \"/\" in arXiv:\n",
    "        year_index = arXiv.index(\"/\")\n",
    "    else:\n",
    "        year_index = start\n",
    "    year = arXiv[year_index+1:year_index+3]\n",
    "    if year[0] == \"9\":\n",
    "        year = int(\"19\" + year)\n",
    "    else:\n",
    "        year = int(\"20\" + year)\n",
    "    return arXiv[start+1:], year\n",
    "\n",
    "papers = []\n",
    "for dd, dt in zip(lewenstein.find_all(\"dd\"), lewenstein.find_all(\"dt\")):\n",
    "    id_, year = extract_id_and_year(dt.find(\"a\", attrs={\"title\": \"Abstract\"}).text)\n",
    "    div = dd.find(\"div\", class_=\"list-authors\")\n",
    "    subject = extract_subject(dd.find(\"span\", class_ = \"primary-subject\").text)\n",
    "    journal = dd.find(\"div\", class_ = \"list-journal-ref\")\n",
    "    if journal:\n",
    "        names = [drop_punctuation(a.text) for a in div.find_all(\"a\")]\n",
    "        for i, name in enumerate(names):\n",
    "            if re.search(\"M.* Lewenstein\", name):\n",
    "                if name not in true_lewenstein:\n",
    "                    break\n",
    "                else:\n",
    "                    names[i] = \"Maciej Lewenstein\"\n",
    "        else:\n",
    "            papers.append([id_, extract_title(dd.find(\"div\", class_ = \"list-title mathjax\").text),\n",
    "                           names, subject, year, extract_journal(journal.text)])"
   ]
  },
  {
   "cell_type": "markdown",
   "metadata": {
    "ExecuteTime": {
     "end_time": "2017-04-17T18:46:53.522823Z",
     "start_time": "2017-04-17T20:46:53.508296+02:00"
    }
   },
   "source": [
    "We would be almost done if journal names were all entered same way. Of course they were not. Let us try to standardize them: this is where we first **combine two sources of data**. We use the journal abbreviations table to default to the long title of the journal in our paper collection."
   ]
  },
  {
   "cell_type": "code",
   "execution_count": null,
   "metadata": {
    "ExecuteTime": {
     "end_time": "2017-04-18T16:01:21.798891Z",
     "start_time": "2017-04-18T18:01:20.190858+02:00"
    },
    "collapsed": true
   },
   "outputs": [],
   "source": [
    "for i, paper in enumerate(papers):\n",
    "    journal = paper[-1]\n",
    "    long_name = abbs[abbs[\"Abbreviation\"] == journal]\n",
    "    if len(long_name) > 0:\n",
    "        papers[i][-1] = long_name[\"Full Journal Title\"].values[0]"
   ]
  },
  {
   "cell_type": "markdown",
   "metadata": {},
   "source": [
    "There will still be some rotten apples:"
   ]
  },
  {
   "cell_type": "code",
   "execution_count": null,
   "metadata": {
    "ExecuteTime": {
     "end_time": "2017-04-18T16:01:22.167272Z",
     "start_time": "2017-04-18T18:01:21.800410+02:00"
    }
   },
   "outputs": [],
   "source": [
    "def find_rotten_apples(paper_list):\n",
    "    rotten_apples = []\n",
    "    for paper in paper_list:\n",
    "        match = ifs[ifs[\"Full Journal Title\"] == paper[-1]]\n",
    "        if len(match) == 0:\n",
    "            rotten_apples.append(paper[-1])\n",
    "    return sorted(rotten_apples)\n",
    "\n",
    "rotten_apples = find_rotten_apples(papers)\n",
    "rotten_apples"
   ]
  },
  {
   "cell_type": "markdown",
   "metadata": {},
   "source": [
    "Now you start to feel the pain of being a data scientist. The sloppiness of manual data entering is unbounded. Your duty is to clean up this mess. A quick fix is to tinker with the `drop_punctuation` function to replace the retarded encoding of JRC. Then go through the creation of the papers array and the standardization again."
   ]
  },
  {
   "cell_type": "code",
   "execution_count": null,
   "metadata": {
    "ExecuteTime": {
     "end_time": "2017-04-18T16:01:22.173663Z",
     "start_time": "2017-04-18T18:01:22.169447+02:00"
    },
    "collapsed": true
   },
   "outputs": [],
   "source": [
    "def drop_punctuation(string):\n",
    "    result = string.replace(\".\", \" \")\n",
    "    result = result.replace(\",\", \" \")\n",
    "    result = result.replace(\"(\", \" \")\n",
    "    result = result.replace(\": \", \"-\")\n",
    "    return \" \".join(result.split())"
   ]
  },
  {
   "cell_type": "markdown",
   "metadata": {},
   "source": [
    "**Exercise 3**. Cut the number of rotten apples in half by defining a replacement dictionary and doing another round of standardization."
   ]
  },
  {
   "cell_type": "code",
   "execution_count": null,
   "metadata": {
    "ExecuteTime": {
     "end_time": "2017-04-18T16:01:22.200748Z",
     "start_time": "2017-04-18T18:01:22.175791+02:00"
    }
   },
   "outputs": [],
   "source": [
    "len(rotten_apples)"
   ]
  },
  {
   "cell_type": "markdown",
   "metadata": {},
   "source": [
    "It is the same drill with our other contender, except that the short version of his name is uniquely his. On the other hand, that single accent in the surname introduces N+1 spelling variants, which we should standardize."
   ]
  },
  {
   "cell_type": "code",
   "execution_count": null,
   "metadata": {
    "ExecuteTime": {
     "end_time": "2017-04-18T16:01:26.817758Z",
     "start_time": "2017-04-18T18:01:22.202850+02:00"
    },
    "collapsed": true
   },
   "outputs": [],
   "source": [
    "acin = get_search_result(\"Acin_A\")\n",
    "for dd, dt in zip(acin.find_all(\"dd\"), acin.find_all(\"dt\")):\n",
    "    id_, year = extract_id_and_year(dt.find(\"a\", attrs={\"title\": \"Abstract\"}).text)\n",
    "    div = dd.find(\"div\", class_=\"list-authors\")\n",
    "    subject = extract_subject(dd.find(\"span\", class_ = \"primary-subject\").text)\n",
    "    journal = dd.find(\"div\", class_ = \"list-journal-ref\")\n",
    "    if journal:\n",
    "        names = [drop_punctuation(a.text) for a in div.find_all(\"a\")]\n",
    "        journal = extract_journal(journal.text)\n",
    "        long_name = abbs[abbs[\"Abbreviation\"] == journal]\n",
    "        if len(long_name) > 0:\n",
    "            journal = long_name[\"Full Journal Title\"].values[0]\n",
    "        papers.append([id_, extract_title(dd.find(\"div\", class_ = \"list-title mathjax\").text),\n",
    "                       names, subject, year, journal])\n",
    "for paper in papers:\n",
    "    names = paper[2]\n",
    "    for i, name in enumerate(names):\n",
    "        if re.search(\"A.* Ac.n\", name):\n",
    "            names[i] = \"Antonio Acín\""
   ]
  },
  {
   "cell_type": "code",
   "execution_count": null,
   "metadata": {
    "ExecuteTime": {
     "end_time": "2017-04-18T16:01:27.534676Z",
     "start_time": "2017-04-18T18:01:26.819484+02:00"
    }
   },
   "outputs": [],
   "source": [
    "rotten_apples = find_rotten_apples(papers)\n",
    "rotten_apples"
   ]
  },
  {
   "cell_type": "markdown",
   "metadata": {},
   "source": [
    "Finally, we do another combination of sources. We **merge** the data set with the table of Impact Factors. The merge will be done based on the full journal titles."
   ]
  },
  {
   "cell_type": "code",
   "execution_count": null,
   "metadata": {
    "ExecuteTime": {
     "end_time": "2017-04-18T16:01:27.549538Z",
     "start_time": "2017-04-18T18:01:27.536634+02:00"
    },
    "collapsed": true
   },
   "outputs": [],
   "source": [
    "db = pd.merge(pd.DataFrame(papers, columns=[\"arXiv\", \"Title\", \"Authors\", \"Primary Subject\", \"Year\", \"Full Journal Title\"]),\n",
    "                           ifs, how=\"inner\", on=[\"Full Journal Title\"])"
   ]
  },
  {
   "cell_type": "markdown",
   "metadata": {},
   "source": [
    "Since the two of them co-authored papers, there are duplicated. They are easy to drop, since they have the same arXiv ID:"
   ]
  },
  {
   "cell_type": "code",
   "execution_count": null,
   "metadata": {
    "ExecuteTime": {
     "end_time": "2017-04-18T16:01:27.572358Z",
     "start_time": "2017-04-18T18:01:27.552967+02:00"
    },
    "collapsed": true
   },
   "outputs": [],
   "source": [
    "db = db.drop_duplicates(subset=\"arXiv\")"
   ]
  },
  {
   "cell_type": "markdown",
   "metadata": {},
   "source": [
    "Notice that we lost a few papers:"
   ]
  },
  {
   "cell_type": "code",
   "execution_count": null,
   "metadata": {
    "ExecuteTime": {
     "end_time": "2017-04-18T16:01:27.602770Z",
     "start_time": "2017-04-18T18:01:27.574174+02:00"
    }
   },
   "outputs": [],
   "source": [
    "print(len(papers), len(db))"
   ]
  },
  {
   "cell_type": "markdown",
   "metadata": {},
   "source": [
    "This can be one of two reasons: the papers were published in journals that are not in JCR (very unlikely), or we failed matching the full journal name (very likely). It is getting tedious, so we live it here for now."
   ]
  },
  {
   "cell_type": "markdown",
   "metadata": {},
   "source": [
    "5. Visual analysis\n",
    "==================\n",
    "\n",
    "Since we only focus on two authors, we can add an additional column to help identifying who it is. We also care about the co-authored papers."
   ]
  },
  {
   "cell_type": "code",
   "execution_count": null,
   "metadata": {
    "ExecuteTime": {
     "end_time": "2017-04-18T16:01:27.689750Z",
     "start_time": "2017-04-18T18:01:27.605101+02:00"
    },
    "collapsed": true
   },
   "outputs": [],
   "source": [
    "def identify_key_authors(authors):\n",
    "    if \"Maciej Lewenstein\" in authors and \"Antonio Acín\" in authors:\n",
    "        return \"AAML\"\n",
    "    elif \"Maciej Lewenstein\" in authors:\n",
    "        return \"ML\"\n",
    "    else:\n",
    "        return \"AA\"\n",
    "\n",
    "db[\"Group\"] = db[\"Authors\"].apply(lambda x: identify_key_authors(x))"
   ]
  },
  {
   "cell_type": "markdown",
   "metadata": {},
   "source": [
    "Let's start plotting distributions:"
   ]
  },
  {
   "cell_type": "code",
   "execution_count": null,
   "metadata": {
    "ExecuteTime": {
     "end_time": "2017-04-18T16:01:28.293233Z",
     "start_time": "2017-04-18T18:01:27.692178+02:00"
    }
   },
   "outputs": [],
   "source": [
    "groups = [\"AA\", \"ML\", \"AAML\"]\n",
    "fig, ax = plt.subplots(ncols=1)\n",
    "for group in groups:\n",
    "    data = db[db[\"Group\"] == group][\"Journal Impact Factor\"]\n",
    "    sns.distplot(data, kde=False, label=group)\n",
    "ax.legend()\n",
    "ax.set_yscale(\"log\")\n",
    "plt.show()"
   ]
  },
  {
   "cell_type": "markdown",
   "metadata": {},
   "source": [
    "The logarithmic scale makes the raw number of papers appear more balanced, which is fair given the difference in age between the two authors. A single Nature paper makes a great outlier:"
   ]
  },
  {
   "cell_type": "code",
   "execution_count": null,
   "metadata": {
    "ExecuteTime": {
     "end_time": "2017-04-18T16:01:28.310029Z",
     "start_time": "2017-04-18T18:01:28.295135+02:00"
    }
   },
   "outputs": [],
   "source": [
    "db[db[\"Journal Impact Factor\"] == db[\"Journal Impact Factor\"].max()]"
   ]
  },
  {
   "cell_type": "markdown",
   "metadata": {},
   "source": [
    "Actually, Toni has another Nature, but that is not on arXiv yet. Not all of Maciej's paper are on arXiv either, especially not the old ones.\n",
    "\n",
    "We can do the same plots with subjects:"
   ]
  },
  {
   "cell_type": "code",
   "execution_count": null,
   "metadata": {
    "ExecuteTime": {
     "end_time": "2017-04-18T16:01:29.009722Z",
     "start_time": "2017-04-18T18:01:28.311659+02:00"
    }
   },
   "outputs": [],
   "source": [
    "subjects = db[\"Primary Subject\"].drop_duplicates()\n",
    "fig, ax = plt.subplots(ncols=1)\n",
    "for subject in subjects:\n",
    "    data = db[db[\"Primary Subject\"] == subject][\"Journal Impact Factor\"]\n",
    "    sns.distplot(data, kde=False, label=subject)\n",
    "ax.legend()\n",
    "ax.set_yscale(\"log\")\n",
    "plt.show()"
   ]
  },
  {
   "cell_type": "markdown",
   "metadata": {},
   "source": [
    "You are safe with quant-ph and quantum gases, but stay clear of atom physics. It is amusing to restrict the histogram to Professor Acín's subset:"
   ]
  },
  {
   "cell_type": "code",
   "execution_count": null,
   "metadata": {
    "ExecuteTime": {
     "end_time": "2017-04-18T16:01:29.367839Z",
     "start_time": "2017-04-18T18:01:29.011612+02:00"
    }
   },
   "outputs": [],
   "source": [
    "fig, ax = plt.subplots(ncols=1)\n",
    "for subject in subjects:\n",
    "    data = db[(db[\"Primary Subject\"] == subject) & (db[\"Group\"] != \"ML\")]\n",
    "    if len(data) > 1:\n",
    "        sns.distplot(data[\"Journal Impact Factor\"], kde=False, label=subject)\n",
    "ax.legend()\n",
    "ax.set_yscale(\"log\")\n",
    "plt.show()"
   ]
  },
  {
   "cell_type": "markdown",
   "metadata": {},
   "source": [
    "His topics are somewhat predictable.\n",
    "\n",
    "Let's add one more column to indicate the number of authors:"
   ]
  },
  {
   "cell_type": "code",
   "execution_count": null,
   "metadata": {
    "ExecuteTime": {
     "end_time": "2017-04-18T16:01:29.581663Z",
     "start_time": "2017-04-18T18:01:29.369930+02:00"
    }
   },
   "outputs": [],
   "source": [
    "db[\"#Authors\"] = db[\"Authors\"].apply(lambda x: len(x))\n",
    "sns.stripplot(x=\"#Authors\", y=\"Journal Impact Factor\", data=db)"
   ]
  },
  {
   "cell_type": "markdown",
   "metadata": {},
   "source": [
    "How about the length of title? Number of words in title?"
   ]
  },
  {
   "cell_type": "code",
   "execution_count": null,
   "metadata": {
    "ExecuteTime": {
     "end_time": "2017-04-18T16:01:30.567303Z",
     "start_time": "2017-04-18T18:01:29.585128+02:00"
    }
   },
   "outputs": [],
   "source": [
    "db[\"Length of Title\"] = db[\"Title\"].apply(lambda x: len(x))\n",
    "db[\"Number of Words in Title\"] = db[\"Title\"].apply(lambda x: len(x.split()))\n",
    "fig, axes = plt.subplots(ncols=2, figsize=(12, 5))\n",
    "sns.stripplot(x=\"Length of Title\", y=\"Journal Impact Factor\", data=db, ax=axes[0])\n",
    "sns.stripplot(x=\"Number of Words in Title\", y=\"Journal Impact Factor\", data=db, ax=axes[1])\n",
    "plt.show()"
   ]
  },
  {
   "cell_type": "markdown",
   "metadata": {},
   "source": [
    "Do our authors maintain IF over time?"
   ]
  },
  {
   "cell_type": "code",
   "execution_count": null,
   "metadata": {
    "ExecuteTime": {
     "end_time": "2017-04-18T16:01:31.150844Z",
     "start_time": "2017-04-18T18:01:30.569906+02:00"
    }
   },
   "outputs": [],
   "source": [
    "fig, axes = plt.subplots(nrows=2, figsize=(10, 5))\n",
    "data = db[db[\"Group\"] != \"ML\"]\n",
    "sns.stripplot(x=\"Year\", y=\"Journal Impact Factor\", data=data, ax=axes[0])\n",
    "axes[0].set_title(\"AA\")\n",
    "data = db[db[\"Group\"] != \"AA\"].sort_values(by=\"Year\")\n",
    "sns.stripplot(x=\"Year\", y=\"Journal Impact Factor\", data=data, ax=axes[1])\n",
    "axes[1].set_title(\"ML\")\n",
    "plt.tight_layout()\n",
    "plt.show()"
   ]
  },
  {
   "cell_type": "markdown",
   "metadata": {},
   "source": [
    "If anything, the IF improved over time. Perhaps joining ICFO had something to do with it.\n",
    "\n",
    "**Completely absurd exercise 1.** Find out if there is any correlation between the non-date part of the arXiv ID and the Impact Factor. For IDs that contain a \"/\", it is the last three digits. For newer IDs, it is everything after \".\""
   ]
  },
  {
   "cell_type": "code",
   "execution_count": null,
   "metadata": {
    "collapsed": true
   },
   "outputs": [],
   "source": []
  },
  {
   "cell_type": "markdown",
   "metadata": {},
   "source": [
    "**Homework**. Extend analysis to the citation numbers of individual papers. Scrape data from Google Scholar (there is a package for that: [scholar.py](https://github.com/ckreibich/scholar.py)). To make it more accurate, you should extend the data by scraping the DOI from the paper metadata. This extension would cycle over links that you can generate from the arXiv IDs to get the matching page from arXiv."
   ]
  }
 ],
 "metadata": {
  "kernelspec": {
   "display_name": "Python 3",
   "language": "python",
   "name": "python3"
  },
  "language_info": {
   "codemirror_mode": {
    "name": "ipython",
    "version": 3
   },
   "file_extension": ".py",
   "mimetype": "text/x-python",
   "name": "python",
   "nbconvert_exporter": "python",
   "pygments_lexer": "ipython3",
   "version": "3.6.0"
  }
 },
 "nbformat": 4,
 "nbformat_minor": 2
}
