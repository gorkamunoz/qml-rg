{
 "cells": [
  {
   "cell_type": "markdown",
   "metadata": {},
   "source": [
    "# Confusion Scheme on MNIST"
   ]
  },
  {
   "cell_type": "code",
   "execution_count": 1,
   "metadata": {
    "collapsed": false
   },
   "outputs": [
    {
     "name": "stderr",
     "output_type": "stream",
     "text": [
      "Using TensorFlow backend.\n"
     ]
    }
   ],
   "source": [
    "import numpy as np\n",
    "import matplotlib.pyplot as plt\n",
    "from sklearn import discriminant_analysis\n",
    "from keras.datasets import mnist\n",
    "from scipy.signal import argrelextrema\n",
    "from keras.models import Sequential\n",
    "from keras.layers import Dense"
   ]
  },
  {
   "cell_type": "markdown",
   "metadata": {},
   "source": [
    "## Data preparation"
   ]
  },
  {
   "cell_type": "code",
   "execution_count": 2,
   "metadata": {
    "collapsed": true
   },
   "outputs": [],
   "source": [
    "(x_train, y_train), (x_test, y_test) = mnist.load_data()\n",
    "\n",
    "number_1 = 7\n",
    "number_2 = 0\n",
    "\n",
    "## Train set\n",
    "x_train = x_train[(y_train == number_1) | (y_train == number_2)]\n",
    "y_train = y_train[(y_train == number_1) | (y_train == number_2)]\n",
    "\n",
    "X_m = x_train.astype(float)\n",
    "y_m = y_train.astype(float)\n",
    "\n",
    "X_m = X_m.reshape(X_m.shape[0], X_m.shape[1]**2)\n",
    "\n",
    "#X_m = X_m[1:5000,:] # we truncate the data to have a faster program. Feel free to test with hole database\n",
    "#y_m = y_m[1:5000]\n",
    "\n",
    "## Test set\n",
    "x_test = x_test[(y_test == number_1) | (y_test == number_2)]\n",
    "y_test = y_test[(y_test == number_1) | (y_test == number_2)]\n",
    "\n",
    "x_test = x_test.astype(float)\n",
    "y_test = y_test.astype(float)\n",
    "\n",
    "x_test = x_test.reshape(x_test.shape[0], x_test.shape[1]**2)"
   ]
  },
  {
   "cell_type": "markdown",
   "metadata": {},
   "source": [
    "## Linear Discriminatn Analysis (LDA)"
   ]
  },
  {
   "cell_type": "markdown",
   "metadata": {},
   "source": [
    "Projection on to the first 2 linear discriminant components"
   ]
  },
  {
   "cell_type": "code",
   "execution_count": 3,
   "metadata": {
    "collapsed": false
   },
   "outputs": [
    {
     "name": "stdout",
     "output_type": "stream",
     "text": [
      "Computing Linear Discriminant Analysis projection\n"
     ]
    },
    {
     "name": "stderr",
     "output_type": "stream",
     "text": [
      "/home/gmunoz/anaconda3/lib/python3.6/site-packages/sklearn/discriminant_analysis.py:387: UserWarning: Variables are collinear.\n",
      "  warnings.warn(\"Variables are collinear.\")\n"
     ]
    }
   ],
   "source": [
    "print(\"Computing Linear Discriminant Analysis projection\")\n",
    "# Train\n",
    "X2 = X_m.copy()\n",
    "X2.flat[::X_m.shape[1] + 1] += 0.01  # Make X invertible\n",
    "X_lda = discriminant_analysis.LinearDiscriminantAnalysis(n_components=2).fit_transform(X2, y_m)\n",
    "\n",
    "plt.figure()\n",
    "plt.title('Linear Discriminant Analysis')\n",
    "plt.scatter(X_lda[(y_m == number_1)], y_m[y_m == number_1]) \n",
    "plt.scatter(X_lda[(y_m == number_2)], y_m[y_m == number_2]) \n",
    "\n",
    "# Test\n",
    "X3 = x_test.copy()\n",
    "X3.flat[::x_test.shape[1] + 1] += 0.01  # Make X invertible\n",
    "X_lda_test = discriminant_analysis.LinearDiscriminantAnalysis(n_components=2).fit_transform(X3, y_test)"
   ]
  },
  {
   "cell_type": "markdown",
   "metadata": {},
   "source": [
    "##"
   ]
  }
 ],
 "metadata": {
  "kernelspec": {
   "display_name": "Python 3",
   "language": "python",
   "name": "python3"
  },
  "language_info": {
   "codemirror_mode": {
    "name": "ipython",
    "version": 3
   },
   "file_extension": ".py",
   "mimetype": "text/x-python",
   "name": "python",
   "nbconvert_exporter": "python",
   "pygments_lexer": "ipython3",
   "version": "3.6.0"
  }
 },
 "nbformat": 4,
 "nbformat_minor": 2
}
